{
 "cells": [
  {
   "cell_type": "markdown",
   "metadata": {},
   "source": [
    "# Arrays"
   ]
  },
  {
   "cell_type": "markdown",
   "metadata": {},
   "source": [
    "__Array__ is a __linear data structure__ that stores a __collection of elements of the same data type__. Elements are allocated contiguous memory, allowing for constant-time access. Each element has a unique index number."
   ]
  },
  {
   "cell_type": "markdown",
   "metadata": {},
   "source": [
    " **The operations on array are as follows**: \n",
    " - __Traversal__ : Iterating through the elements of an array.\n",
    " \n",
    " - __Insertion__ : Adding an element to the array at a specific index. \n",
    " \n",
    " - __Deletion__  : Removing an element from the array at a specific index.\n",
    "\n",
    " - __Searching__ : Finding an element in the array by its value or index.\n"
   ]
  },
  {
   "cell_type": "markdown",
   "metadata": {},
   "source": [
    "### Types of Array"
   ]
  },
  {
   "cell_type": "markdown",
   "metadata": {},
   "source": [
    "Arrays can be categorized into two broad cateories : \n",
    "\n",
    "1. __Based on Size__:\n",
    "    - Fixed size\n",
    "    - Dynamic Size\n",
    "2. __Based on the Dimension__ :\n",
    "    -  One Dimension Array\n",
    "    -  Multi Dimention Array"
   ]
  },
  {
   "cell_type": "markdown",
   "metadata": {},
   "source": [
    "### Searching in an Array"
   ]
  },
  {
   "cell_type": "markdown",
   "metadata": {},
   "source": [
    "__Linear Search__"
   ]
  },
  {
   "cell_type": "markdown",
   "metadata": {},
   "source": [
    "__Binar Search__"
   ]
  },
  {
   "cell_type": "markdown",
   "metadata": {},
   "source": [
    "__Binary Search__ :\n",
    "- **Binary search** is a **search algorithm** used to **find the position of a target value** within a **sorted array**.\n",
    "\n",
    "- It works by **repeatedly dividing** the **search interval** in **half** until the **target value** is **found** or the interval is **empty**.\n",
    "\n",
    "- The search interval is halved by comparing the target element with the **middle value** of the search space."
   ]
  },
  {
   "cell_type": "markdown",
   "metadata": {},
   "source": [
    "- ### Below is the step-by-step algorithm for Binary Search:\n",
    "\n",
    "    - Divide the **search space** into __two halves__ by finding the __middle index__ “__mid__”.\n",
    "\n",
    "    - Compare the __middle element__ of the search space with the __key__.\n",
    "\n",
    "    - If the __key__ is __found at middle element__, the process is __terminated__.\n",
    "\n",
    "    - If the key is not found at middle element, choose which half will be used as the next search space.\n",
    "\n",
    "        - If the key is smaller than the middle element, then the left side is used for next search.\n",
    "\n",
    "        - If the key is larger than the middle element, then the right side is used for next search.\n",
    "        \n",
    "    - This process is continued until the key is found or the total search space is exhausted."
   ]
  },
  {
   "cell_type": "code",
   "execution_count": 24,
   "metadata": {},
   "outputs": [
    {
     "name": "stdout",
     "output_type": "stream",
     "text": [
      "Number was not found\n"
     ]
    }
   ],
   "source": [
    "def binarySearch(arr, low, high, x):\n",
    "\n",
    "    while low <= high:\n",
    "\n",
    "        mid = low + (high - low) // 2\n",
    "\n",
    "        # Check if x is present at mid\n",
    "        if arr[mid] == x:\n",
    "            return mid\n",
    "\n",
    "        # If x is greater, ignore left half\n",
    "        elif arr[mid] < x:\n",
    "            low = mid + 1\n",
    "\n",
    "        # If x is smaller, ignore right half\n",
    "        else:\n",
    "            high = mid - 1\n",
    "\n",
    "    # If we reach here, then the element\n",
    "    # was not present\n",
    "    return -1\n",
    "\n",
    "arr = [1, 2, 3, 4, 5, 6, 7, 8, 9, 10]\n",
    "\n",
    "low = 0\n",
    "\n",
    "high = len(arr)-1\n",
    "\n",
    "x = 11\n",
    "\n",
    "print(f\"The element was found at index: {binarySearch(arr, low, high, x)}\" if (binarySearch(arr, low, high, x)>0) else \"Number was not found\")"
   ]
  },
  {
   "cell_type": "markdown",
   "metadata": {},
   "source": [
    "## Sorting"
   ]
  },
  {
   "cell_type": "markdown",
   "metadata": {},
   "source": [
    "### Bubble Sort Algorithm"
   ]
  },
  {
   "cell_type": "markdown",
   "metadata": {},
   "source": [
    "- Bubble Sort is the simplest sorting algorithm that works by repeatedly swapping the adjacent elements if they are in the wrong order.\n",
    "- This algorithm is not suitable for large data sets as its average and worst-case time complexity are quite high.\n",
    "\n",
    "- We sort the array using multiple passes.\n",
    "- After the first pass, the maximum element goes to end (its correct position).\n",
    "- Same way, after second pass, the second largest element goes to second last position and so on.\n",
    "- In every pass, we process only those elements that have already not moved to correct position.\n",
    "- After k passes, the largest k elements must have been moved to the last k positions.\n",
    "- In a pass, we consider remaining elements and compare all adjacent and swap if larger element is before a smaller element.\n",
    "- If we keep doing this, we get the largest (among the remaining elements) at its correct position."
   ]
  },
  {
   "cell_type": "code",
   "execution_count": 25,
   "metadata": {},
   "outputs": [
    {
     "name": "stdout",
     "output_type": "stream",
     "text": [
      "None\n"
     ]
    }
   ],
   "source": [
    "## This is a simple code \n",
    "def bubbleSort(arr):\n",
    "    n = len(arr)\n",
    "    \n",
    "    # Traverse through all array elements\n",
    "    for i in range(n):\n",
    "        swapped = False\n",
    "\n",
    "        # Last i elements are already in place\n",
    "        for j in range(0, n-i-1):\n",
    "\n",
    "            # Traverse the array from 0 to n-i-1\n",
    "            # Swap if the element found is greater\n",
    "            # than the next element\n",
    "            if arr[j] > arr[j+1]:\n",
    "                arr[j], arr[j+1] = arr[j+1], arr[j]\n",
    "                swapped = True\n",
    "        if (swapped == False):\n",
    "            break\n",
    "\n",
    "arr = [5, 2, 3, 1, 9, 10, 7, 6]\n",
    "\n",
    "print(bubbleSort(arr))"
   ]
  },
  {
   "cell_type": "code",
   "execution_count": null,
   "metadata": {},
   "outputs": [],
   "source": []
  }
 ],
 "metadata": {
  "kernelspec": {
   "display_name": "base",
   "language": "python",
   "name": "python3"
  },
  "language_info": {
   "codemirror_mode": {
    "name": "ipython",
    "version": 3
   },
   "file_extension": ".py",
   "mimetype": "text/x-python",
   "name": "python",
   "nbconvert_exporter": "python",
   "pygments_lexer": "ipython3",
   "version": "3.10.9"
  }
 },
 "nbformat": 4,
 "nbformat_minor": 2
}
